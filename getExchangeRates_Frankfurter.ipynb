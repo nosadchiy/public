{
  "nbformat": 4,
  "nbformat_minor": 0,
  "metadata": {
    "colab": {
      "provenance": [],
      "authorship_tag": "ABX9TyM0oDPXs0aatWJUOSvf9gQ6",
      "include_colab_link": true
    },
    "kernelspec": {
      "name": "python3",
      "display_name": "Python 3"
    },
    "language_info": {
      "name": "python"
    }
  },
  "cells": [
    {
      "cell_type": "markdown",
      "metadata": {
        "id": "view-in-github",
        "colab_type": "text"
      },
      "source": [
        "<a href=\"https://colab.research.google.com/github/nosadchiy/public/blob/main/getExchangeRates_Frankfurter.ipynb\" target=\"_parent\"><img src=\"https://colab.research.google.com/assets/colab-badge.svg\" alt=\"Open In Colab\"/></a>"
      ]
    },
    {
      "cell_type": "code",
      "execution_count": null,
      "metadata": {
        "id": "bkVLQZNWqFaR"
      },
      "outputs": [],
      "source": []
    },
    {
      "cell_type": "code",
      "source": [
        "import requests\n",
        "from datetime import datetime, timedelta, date\n",
        "import pandas as pd\n",
        "from scipy.stats import multivariate_normal"
      ],
      "metadata": {
        "id": "j57mrWLHsYG-"
      },
      "execution_count": 10,
      "outputs": []
    },
    {
      "cell_type": "code",
      "source": [
        "import requests\n",
        "from datetime import datetime, timedelta, date\n",
        "\n",
        "def get_month_end_dates(start_date_str, end_date_str):\n",
        "    \"\"\"\n",
        "    Generate a list of dates representing the last day of each month\n",
        "    between start_date and end_date. If the end_date falls in the middle\n",
        "    of a month, that date will be used for the final month.\n",
        "    \"\"\"\n",
        "    start_date = datetime.strptime(start_date_str, '%Y-%m-%d').date()\n",
        "    end_date   = datetime.strptime(end_date_str, '%Y-%m-%d').date()\n",
        "    month_end_dates = []\n",
        "\n",
        "    # Start from the first day of the month of start_date.\n",
        "    current = start_date.replace(day=1)\n",
        "\n",
        "    while current <= end_date:\n",
        "        # Determine the first day of the next month.\n",
        "        if current.month == 12:\n",
        "            next_month = date(current.year + 1, 1, 1)\n",
        "        else:\n",
        "            next_month = date(current.year, current.month + 1, 1)\n",
        "\n",
        "        # Last day of the current month is one day before the first day of the next month.\n",
        "        last_day_of_month = next_month - timedelta(days=1)\n",
        "\n",
        "        # If the last day of the month is after the specified end_date,\n",
        "        # then use end_date (if it is in the same month) instead.\n",
        "        if last_day_of_month > end_date:\n",
        "            last_day_of_month = end_date\n",
        "\n",
        "        if last_day_of_month >= start_date:\n",
        "            month_end_dates.append(last_day_of_month)\n",
        "\n",
        "        # Move to the first day of the next month.\n",
        "        current = next_month\n",
        "\n",
        "    return month_end_dates\n",
        "\n",
        "def get_exchange_rate_for_date(date_str, base_currency=\"USD\", symbols=None):\n",
        "    \"\"\"\n",
        "    Fetches exchange rates for the given date from the Frankfurter API.\n",
        "\n",
        "    :param date_str: The date string in 'YYYY-MM-DD' format.\n",
        "    :param base_currency: The base currency (default \"USD\").\n",
        "    :param symbols: A list of target currency codes.\n",
        "    :return: A dictionary of exchange rates.\n",
        "    \"\"\"\n",
        "    url = f\"https://api.frankfurter.app/{date_str}\"\n",
        "    params = {\"from\": base_currency}\n",
        "    if symbols:\n",
        "        params[\"to\"] = \",\".join(symbols)\n",
        "\n",
        "    response = requests.get(url, params=params)\n",
        "\n",
        "    if response.status_code == 200:\n",
        "        data = response.json()\n",
        "        return data.get(\"rates\", {})\n",
        "    else:\n",
        "        print(f\"Error fetching data for {date_str}: HTTP {response.status_code}\")\n",
        "        return {}\n",
        "\n",
        "def estimate_statistics(exchange_data):\n",
        "    \"\"\"\n",
        "    Given a dictionary of exchange rate data with dates as keys and\n",
        "    rate dictionaries as values, this function computes:\n",
        "\n",
        "      - The average exchange rate vector.\n",
        "      - The variance-covariance matrix of the exchange rates.\n",
        "\n",
        "    :param exchange_data: dict of the form {date_str: {currency: rate, ...}, ...}\n",
        "    :return: A tuple (average_vector, covariance_matrix) where:\n",
        "             - average_vector is a pandas Series.\n",
        "             - covariance_matrix is a pandas DataFrame.\n",
        "    \"\"\"\n",
        "    # Convert the nested dictionary to a pandas DataFrame.\n",
        "    # Rows are indexed by date and columns are the currency codes.\n",
        "    df = pd.DataFrame.from_dict(exchange_data, orient=\"index\")\n",
        "    df.index = pd.to_datetime(df.index)\n",
        "    df.sort_index(inplace=True)\n",
        "\n",
        "    # Calculate the average exchange rate for each currency.\n",
        "    average_vector = df.mean()\n",
        "\n",
        "    # Calculate the variance-covariance matrix of the exchange rates.\n",
        "    covariance_matrix = df.cov()\n",
        "\n",
        "    return average_vector, covariance_matrix\n",
        "\n"
      ],
      "metadata": {
        "id": "7YRbZMKDqHXX"
      },
      "execution_count": 11,
      "outputs": []
    },
    {
      "cell_type": "code",
      "source": [
        "# Specify the time period and target currencies.\n",
        "start_date_str = \"2023-01-01\"  # Change to your desired start date.\n",
        "end_date_str   = \"2024-12-31\"  # Change to your desired end date.\n",
        "target_currencies = [\"BRL\", \"EUR\", \"INR\", \"JPY\", \"MXN\"]\n",
        "\n",
        "# Get a list of month-end dates for the given period.\n",
        "month_end_dates = get_month_end_dates(start_date_str, end_date_str)\n",
        "\n",
        "# Dictionary to hold the results.\n",
        "exchange_data = {}\n",
        "\n",
        "# Fetch the exchange rates for each month-end date.\n",
        "for d in month_end_dates:\n",
        "    date_str = d.isoformat()\n",
        "    print(f\"Fetching rates for {date_str}...\")\n",
        "    rates = get_exchange_rate_for_date(date_str, base_currency=\"USD\", symbols=target_currencies)\n",
        "    exchange_data[date_str] = rates\n",
        "\n",
        "# Display the collected exchange rate data.\n",
        "print(\"\\nExchange Rates at Month End:\")\n",
        "for date_str, rates in exchange_data.items():\n",
        "    print(f\"{date_str}: {rates}\")\n",
        "\n",
        "# Estimate average exchange rate vector and the variance-covariance matrix.\n",
        "avg_vector, cov_matrix = estimate_statistics(exchange_data)\n",
        "\n",
        "print(\"\\nAverage Exchange Rate Vector:\")\n",
        "print(avg_vector)\n",
        "\n",
        "print(\"\\nVariance-Covariance Matrix:\")\n",
        "print(cov_matrix)\n",
        "\n",
        "\n",
        "\n",
        "\n"
      ],
      "metadata": {
        "colab": {
          "base_uri": "https://localhost:8080/"
        },
        "id": "IuXRknTFsTdW",
        "outputId": "ccc48514-0c46-498c-bad6-c3b747e82ed9"
      },
      "execution_count": 14,
      "outputs": [
        {
          "output_type": "stream",
          "name": "stdout",
          "text": [
            "Fetching rates for 2023-01-31...\n",
            "Fetching rates for 2023-02-28...\n",
            "Fetching rates for 2023-03-31...\n",
            "Fetching rates for 2023-04-30...\n",
            "Fetching rates for 2023-05-31...\n",
            "Fetching rates for 2023-06-30...\n",
            "Fetching rates for 2023-07-31...\n",
            "Fetching rates for 2023-08-31...\n",
            "Fetching rates for 2023-09-30...\n",
            "Fetching rates for 2023-10-31...\n",
            "Fetching rates for 2023-11-30...\n",
            "Fetching rates for 2023-12-31...\n",
            "Fetching rates for 2024-01-31...\n",
            "Fetching rates for 2024-02-29...\n",
            "Fetching rates for 2024-03-31...\n",
            "Fetching rates for 2024-04-30...\n",
            "Fetching rates for 2024-05-31...\n",
            "Fetching rates for 2024-06-30...\n",
            "Fetching rates for 2024-07-31...\n",
            "Fetching rates for 2024-08-31...\n",
            "Fetching rates for 2024-09-30...\n",
            "Fetching rates for 2024-10-31...\n",
            "Fetching rates for 2024-11-30...\n",
            "Fetching rates for 2024-12-31...\n",
            "\n",
            "Exchange Rates at Month End:\n",
            "2023-01-31: {'BRL': 5.1115, 'EUR': 0.92311, 'INR': 81.82, 'JPY': 130.41, 'MXN': 18.8277}\n",
            "2023-02-28: {'BRL': 5.2058, 'EUR': 0.94171, 'INR': 82.61, 'JPY': 136.76, 'MXN': 18.3143}\n",
            "2023-03-31: {'BRL': 5.072, 'EUR': 0.91954, 'INR': 82.21, 'JPY': 133.18, 'MXN': 18.059}\n",
            "2023-04-30: {'BRL': 4.997, 'EUR': 0.91066, 'INR': 81.83, 'JPY': 136.01, 'MXN': 18.0477}\n",
            "2023-05-31: {'BRL': 5.0817, 'EUR': 0.93607, 'INR': 82.69, 'JPY': 139.6, 'MXN': 17.7163}\n",
            "2023-06-30: {'BRL': 4.8581, 'EUR': 0.9203, 'INR': 82.1, 'JPY': 144.63, 'MXN': 17.0821}\n",
            "2023-07-31: {'BRL': 4.7202, 'EUR': 0.90719, 'INR': 82.26, 'JPY': 142.18, 'MXN': 16.7004}\n",
            "2023-08-31: {'BRL': 4.8842, 'EUR': 0.92013, 'INR': 82.75, 'JPY': 145.83, 'MXN': 16.7341}\n",
            "2023-09-30: {'BRL': 5.009, 'EUR': 0.94393, 'INR': 83.08, 'JPY': 149.24, 'MXN': 17.4655}\n",
            "2023-10-31: {'BRL': 5.061, 'EUR': 0.94171, 'INR': 83.27, 'JPY': 150.96, 'MXN': 18.0385}\n",
            "2023-11-30: {'BRL': 4.9386, 'EUR': 0.91483, 'INR': 83.35, 'JPY': 147.46, 'MXN': 17.4033}\n",
            "2023-12-31: {'BRL': 4.8523, 'EUR': 0.90498, 'INR': 83.17, 'JPY': 141.48, 'MXN': 16.944}\n",
            "2024-01-31: {'BRL': 4.9598, 'EUR': 0.92276, 'INR': 83.05, 'JPY': 147.82, 'MXN': 17.1465}\n",
            "2024-02-29: {'BRL': 4.993, 'EUR': 0.9237, 'INR': 82.9, 'JPY': 150.13, 'MXN': 17.0856}\n",
            "2024-03-31: {'BRL': 4.9979, 'EUR': 0.92498, 'INR': 83.38, 'JPY': 151.19, 'MXN': 16.5738}\n",
            "2024-04-30: {'BRL': 5.1248, 'EUR': 0.93301, 'INR': 83.43, 'JPY': 157.0, 'MXN': 16.971}\n",
            "2024-05-31: {'BRL': 5.1989, 'EUR': 0.92149, 'INR': 83.42, 'JPY': 157.13, 'MXN': 16.9911}\n",
            "2024-06-30: {'BRL': 5.5035, 'EUR': 0.93414, 'INR': 83.37, 'JPY': 160.62, 'MXN': 18.2769}\n",
            "2024-07-31: {'BRL': 5.6219, 'EUR': 0.92353, 'INR': 83.69, 'JPY': 150.31, 'MXN': 18.7772}\n",
            "2024-08-31: {'BRL': 5.6061, 'EUR': 0.90196, 'INR': 83.84, 'JPY': 145.39, 'MXN': 19.6248}\n",
            "2024-09-30: {'BRL': 5.4041, 'EUR': 0.89318, 'INR': 83.79, 'JPY': 142.75, 'MXN': 19.6356}\n",
            "2024-10-31: {'BRL': 5.7558, 'EUR': 0.91895, 'INR': 84.07, 'JPY': 152.82, 'MXN': 20.041}\n",
            "2024-11-30: {'BRL': 6.0936, 'EUR': 0.94679, 'INR': 84.57, 'JPY': 150.2, 'MXN': 20.391}\n",
            "2024-12-31: {'BRL': 6.1847, 'EUR': 0.96256, 'INR': 85.6, 'JPY': 156.95, 'MXN': 20.743}\n",
            "\n",
            "Average Exchange Rate Vector:\n",
            "BRL      5.218146\n",
            "EUR      0.924634\n",
            "INR     83.177083\n",
            "JPY    146.668750\n",
            "MXN     18.066267\n",
            "dtype: float64\n",
            "\n",
            "Variance-Covariance Matrix:\n",
            "          BRL       EUR       INR        JPY       MXN\n",
            "BRL  0.150618  0.002509  0.273974   1.225555  0.435292\n",
            "EUR  0.002509  0.000251  0.005125   0.046274  0.004548\n",
            "INR  0.273974  0.005125  0.754891   4.657418  0.664957\n",
            "JPY  1.225555  0.046274  4.657418  61.585064  0.535588\n",
            "MXN  0.435292  0.004548  0.664957   0.535588  1.553693\n"
          ]
        }
      ]
    },
    {
      "cell_type": "code",
      "source": [
        "mvn_distribution = multivariate_normal(mean=avg_vector, cov=cov_matrix)\n",
        "sample = mvn_distribution.rvs(size=1, random_state = 1)\n",
        "\n",
        "print(\"Sampled draw:\", sample)"
      ],
      "metadata": {
        "colab": {
          "base_uri": "https://localhost:8080/"
        },
        "id": "cQs38wQbuDHh",
        "outputId": "63e2e558-aac1-48cd-f8f1-ab12fc0cc84b"
      },
      "execution_count": 16,
      "outputs": [
        {
          "output_type": "stream",
          "name": "stdout",
          "text": [
            "Sampled draw: [  5.06667254   0.8999488   82.71303795 133.8740746   18.64681926]\n"
          ]
        }
      ]
    }
  ]
}