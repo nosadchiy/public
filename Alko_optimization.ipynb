{
  "nbformat": 4,
  "nbformat_minor": 0,
  "metadata": {
    "colab": {
      "provenance": [],
      "authorship_tag": "ABX9TyMY6uXPQFyHeKKGZL0yNGFa",
      "include_colab_link": true
    },
    "kernelspec": {
      "name": "python3",
      "display_name": "Python 3"
    },
    "language_info": {
      "name": "python"
    }
  },
  "cells": [
    {
      "cell_type": "markdown",
      "metadata": {
        "id": "view-in-github",
        "colab_type": "text"
      },
      "source": [
        "<a href=\"https://colab.research.google.com/github/nosadchiy/public/blob/main/Alko_optimization.ipynb\" target=\"_parent\"><img src=\"https://colab.research.google.com/assets/colab-badge.svg\" alt=\"Open In Colab\"/></a>"
      ]
    },
    {
      "cell_type": "markdown",
      "source": [
        "Alko case, Supply Chain Analytics, ISOM 599R Emory University"
      ],
      "metadata": {
        "id": "7Sntj4jLka3o"
      }
    },
    {
      "cell_type": "code",
      "execution_count": null,
      "metadata": {
        "id": "iwsvsPHLkP2B"
      },
      "outputs": [],
      "source": [
        "%reset -f\n",
        "%clear\n",
        "import numpy as np\n",
        "import pandas as pd\n",
        "import math\n",
        "import scipy.stats as st\n",
        "from scipy.optimize import minimize\n",
        "\n",
        "### Set display options for comma separator and precision\n",
        "pd.options.display.float_format = '{:,.2f}'.format\n",
        "\n",
        "# Define the date you want to check\n",
        "days = 365  # days_per_year\n",
        "h   = 0.15  # holding_cost_per_day\n",
        "tc  = 0.19  # transportaion_cost_per_unit\n",
        "ctc = 0.29  # centralized transportaion_cost_per_unit\n",
        "L   = 5     # supply_leadtime_days\n",
        "T   = 6     # review_period_days\n",
        "csl = 0.95  # critical value\n",
        "# warehouse_cost = 50000\n",
        "\n",
        "corr = 0\n",
        "# Prompt the user to enter a value for 'corr'\n",
        "#corr = float(input(\"Enter correlation (as scalar): \"))\n",
        "\n",
        "### Rawdata: average demand and standard deviation of demand for each part in each region\n",
        "avg_demand = np.array([[35.48, 22.61, 17.66, 11.81,  3.36],\n",
        "                       [ 2.48,  4.15,  6.15,  6.16,  7.49],\n",
        "                       [ 0.48,  0.73,  0.80,  1.94,  2.54]])\n",
        "\n",
        "std_demand = np.array([[ 6.98,  6.48,  5.26,  3.48,  4.49],\n",
        "                       [ 3.16,  6.20,  6.39,  6.76,  3.56],\n",
        "                       [ 1.98,  1.42,  2.39,  3.76,  3.98]])\n",
        "\n",
        "num_demand = np.array([[ 10, 10, 10, 10, 10],\n",
        "                       [ 20, 20, 20, 20, 20],\n",
        "                       [ 70, 70, 70, 70, 70]])\n",
        "\n",
        "n_parts, n_regions = avg_demand.shape[0], avg_demand.shape[1]\n",
        "\n",
        "### create correlation matrix using provided scalar value (corr can also be provided as raw data)\n",
        "corr_matrix = np.full((n_regions, n_regions), corr)\n",
        "np.fill_diagonal(corr_matrix, 1) # Set diagonal elements to 1\n",
        "\n",
        "%clear\n",
        "\n",
        "# Objective function to maximize (using matrix calculations)\n",
        "def objective_function(flat_matrix):\n",
        "\n",
        "    centralize = flat_matrix.reshape((3, 5))     # Reshape the flattened matrix to 3x5\n",
        "\n",
        "    ### Compute aggregate standard deviation for centralized choices\n",
        "    agg_std_demand = np.diag( np.dot( np.dot( np.multiply(std_demand, centralize), corr_matrix), np.transpose( np.multiply(std_demand, centralize) ) ) )\n",
        "    sqrt_agg_std_demand = np.sqrt(agg_std_demand)\n",
        "\n",
        "    sum_columns = np.sum(centralize, axis=1, keepdims=True)\n",
        "    sum_columns[sum_columns == 0] = 1\n",
        "    sum_columns_inv = 1 / sum_columns\n",
        "\n",
        "    ### Adjust the standard deviation by dividing number of centralized regions for each part\n",
        "    sqrt_agg_std_demand2 = np.repeat(sqrt_agg_std_demand.reshape(n_parts, 1), n_regions, axis=1)\n",
        "    sum_columns_inv2 = np.repeat(sum_columns_inv.reshape(n_parts, 1), n_regions, axis=1)\n",
        "\n",
        "    std_demand_updated = np.array( centralize * sum_columns_inv2 * sqrt_agg_std_demand2 + (1 - centralize) * std_demand )\n",
        "\n",
        "    total_cost = sum(\n",
        "        days * num_demand[i, j] *\n",
        "        (h * ( st.norm.ppf(csl) * std_demand_updated[i, j] * math.sqrt(T + L) +  avg_demand[i, j] * (T/2 + L) )\n",
        "        + ( avg_demand[i, j] * ( centralize[i, j] * ctc + (1 - centralize[i, j]) * tc ) )\n",
        "        ) for i in range(n_parts) for j in range(n_regions) )\n",
        "\n",
        "    return total_cost  # Negate for maximization\n",
        "\n",
        "\n"
      ]
    },
    {
      "cell_type": "markdown",
      "source": [],
      "metadata": {
        "id": "u3fOKGYokZlf"
      }
    },
    {
      "cell_type": "code",
      "source": [
        "# Initial guess for decision variables\n",
        "initial_guess = np.full((n_parts, n_regions), 0.5)\n",
        "initial_guess_flat = initial_guess.flatten()     # Flatten the initial guess for use in optimization\n",
        "\n",
        "# Bounds for decision variables (between 0 and 1)\n",
        "bounds = [(0, 1)] * (n_parts*n_regions)\n",
        "\n",
        "# Custom constraint enforcing the sum of each group (of 5) to not equal 1\n",
        "def binary_constraints(x):\n",
        "    # Binary constraint\n",
        "    return [xi * (1 - xi) for xi in x]   # Forcing xi to be close to 0 or 1\n",
        "    # return x - 0.5\n",
        "\n",
        "# Constraints argument\n",
        "constraints = ({'type': 'ineq', 'fun': binary_constraints})\n",
        "\n",
        "# Optimization using minimize function from scipy\n",
        "result = minimize(objective_function, initial_guess_flat, bounds=bounds, constraints=constraints)\n",
        "\n",
        "# Extract the optimal solution as a 3x5 matrix\n",
        "optimal_soln_mat = np.round((result.x).reshape((n_parts, n_regions)))\n",
        "\n",
        "cdc_cost = days * sum( (num_demand[i, j] * avg_demand[i, j] * optimal_soln_mat[i, j]) for i in range(n_parts) for j in range(n_regions) )\n",
        "investment = cdc_cost * 2 if cdc_cost <= 400000 else (800000 + (cdc_cost - 400000) * 1.5)\n",
        "\n",
        "# Print the optimal solution as a 3x5 matrix\n",
        "print(\"Correlation :\", corr)\n",
        "print(f\"Minimum cost: ${(result.fun):>13,.2f}\")\n",
        "print(f\"CDC cost    : ${cdc_cost:>13,.2f}\")\n",
        "print(f\"Investment  : ${investment:>13,.2f}\")\n",
        "print(\"\\nOptimal Solution:\\n   R1   R2   R3   R4   R5\")\n",
        "for part in optimal_soln_mat:\n",
        "    print(\" \".join(f\"{int(region):4}\" for region in part))"
      ],
      "metadata": {
        "id": "tY41hybAkinI"
      },
      "execution_count": null,
      "outputs": []
    }
  ]
}