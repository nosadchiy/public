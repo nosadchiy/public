{
  "nbformat": 4,
  "nbformat_minor": 0,
  "metadata": {
    "colab": {
      "provenance": [],
      "include_colab_link": true
    },
    "kernelspec": {
      "name": "python3",
      "display_name": "Python 3"
    },
    "language_info": {
      "name": "python"
    }
  },
  "cells": [
    {
      "cell_type": "markdown",
      "metadata": {
        "id": "view-in-github",
        "colab_type": "text"
      },
      "source": [
        "<a href=\"https://colab.research.google.com/github/nosadchiy/public/blob/main/SunOil_solution.ipynb\" target=\"_parent\"><img src=\"https://colab.research.google.com/assets/colab-badge.svg\" alt=\"Open In Colab\"/></a>"
      ]
    },
    {
      "cell_type": "markdown",
      "source": [
        "# Sun Oil: Regional Facility Configuration"
      ],
      "metadata": {
        "id": "eWMocmUjlpEm"
      }
    },
    {
      "cell_type": "markdown",
      "source": [
        "SunOil, a global manufacturer of petrochemicals is considering several options to meet demand. One possibility is to set up a facility in each region. This would lower transportation costs and helps to avoid tariffs and duties, but foregoes benefits of the economies of scale. The table below contains annual demand, variable production and transportation cost (including tariffs), as well as the fixed cost of establishing a facility.\n",
        "\n",
        "How should SunOil plan its production network? Consider a possibility when an additional 50% tariff is imposed for importing goods from Asia to North America.\n",
        "\n",
        "| Supply Region | N. America | S. America | Europe | Asia | Africa |\n",
        "|---------------|------------|------------|--------|------|--------|\n",
        "| N. America    | 81         | 92         | 101    | 130  | 115    |\n",
        "| S. America    | 117        | 77         | 108    | 98   | 100    |\n",
        "| Europe        | 102        | 105        | 95     | 119  | 111    |\n",
        "| Asia          | 115        | 125        | 90     | 59   | 74     |\n",
        "| Africa        | 142        | 100        | 103    | 105  | 71     |\n",
        "| Demand        | 12         | 8          | 14     | 16   | 7      |"
      ],
      "metadata": {
        "id": "QN519G2FnVZ_"
      }
    },
    {
      "cell_type": "markdown",
      "source": [
        "### Install and import packages"
      ],
      "metadata": {
        "id": "aCqqg646v6r6"
      }
    },
    {
      "cell_type": "code",
      "execution_count": 1,
      "metadata": {
        "id": "AVeKmtpwefyk",
        "colab": {
          "base_uri": "https://localhost:8080/"
        },
        "outputId": "7fbaef48-1541-48ef-8e42-f47142b80fd4"
      },
      "outputs": [
        {
          "output_type": "stream",
          "name": "stdout",
          "text": [
            "Requirement already satisfied: tabulate in /usr/local/lib/python3.10/dist-packages (0.9.0)\n",
            "Collecting gurobipy\n",
            "  Downloading gurobipy-11.0.0-cp310-cp310-manylinux2014_x86_64.manylinux_2_17_x86_64.whl (13.4 MB)\n",
            "\u001b[2K     \u001b[90m━━━━━━━━━━━━━━━━━━━━━━━━━━━━━━━━━━━━━━━━\u001b[0m \u001b[32m13.4/13.4 MB\u001b[0m \u001b[31m11.2 MB/s\u001b[0m eta \u001b[36m0:00:00\u001b[0m\n",
            "\u001b[?25hInstalling collected packages: gurobipy\n",
            "Successfully installed gurobipy-11.0.0\n"
          ]
        }
      ],
      "source": [
        "%reset -f\n",
        "\n",
        "# Install and import packages\n",
        "!pip install tabulate\n",
        "!pip install gurobipy\n",
        "import numpy as np\n",
        "from gurobipy import Model, GRB, quicksum\n",
        "from tabulate import tabulate"
      ]
    },
    {
      "cell_type": "markdown",
      "source": [
        "### Raw Data"
      ],
      "metadata": {
        "id": "4A7JbN-Hv0Wg"
      }
    },
    {
      "cell_type": "code",
      "source": [
        "# Cost matrix\n",
        "cost = np.array([[ 81,  92, 101, 130, 115],\n",
        "                 [117,  77, 108,  98, 100],\n",
        "                 [102, 105,  95, 119, 111],\n",
        "                 [115, 125,  90,  59,  74],\n",
        "                 [142, 100, 103, 105,  71]\n",
        "                ])\n",
        "\n",
        "# Demand in each location\n",
        "demand = np.array([12, 8, 14, 16, 7])\n",
        "\n",
        "# Capacity and Fixed costs for each supply line (low and high- capacity)\n",
        "lcap_fc = np.array([6000, 4500, 6500, 4100, 4000])\n",
        "lcap_qt = np.array([10, 10, 10, 10, 10])\n",
        "\n",
        "hcap_fc = np.array([9000, 6750, 9750, 6150, 6000])\n",
        "hcap_qt = np.array([20, 20, 20, 20, 20])"
      ],
      "metadata": {
        "id": "x0ASqWWTekIo"
      },
      "execution_count": 2,
      "outputs": []
    },
    {
      "cell_type": "markdown",
      "source": [
        "### Minimize cost using Gurobi integer optimizer"
      ],
      "metadata": {
        "id": "frM7khPFv_XZ"
      }
    },
    {
      "cell_type": "code",
      "source": [
        "tariff = 0          ### Add tariff in decimal format such as 0, 0.1.\n",
        "cost_mat = cost.copy()\n",
        "cost_mat[3,0] = cost[3,0]*(1+tariff)      # Adjust the cost of import from Asia using tariff\n",
        "\n",
        "# identify number of supply and demand location for iterations\n",
        "n_supply = range(len(cost_mat))\n",
        "n_demand = range(len(cost_mat[0]))\n",
        "\n",
        "# Initial value of decision variables\n",
        "dec_qty = {(i, j): 0 for i in n_supply for j in n_demand}\n",
        "dec_lcap = {(i): 0 for i in n_supply}\n",
        "dec_hcap = {(i): 0 for i in n_supply}\n",
        "\n",
        "# Create a Gurobi model\n",
        "model = Model(\"MinimizeCost\")\n",
        "\n",
        "# Define decision variables, enforce integer type with lower bound = 0\n",
        "# There are three sets of decisions- 1) units to produce and transport from supply to demand location, 2) low capacity line 3) high capacity line at supply locations\n",
        "dec_qty = {(i, j): model.addVar(vtype=GRB.INTEGER, lb=0, name=f\"Quantity_{i}_{j}\") for i in n_supply for j in n_demand}\n",
        "dec_lcap = {(i): model.addVar(vtype=GRB.INTEGER, name=f\"Dec_Low_{i}\") for i in n_supply}\n",
        "dec_hcap = {(i): model.addVar(vtype=GRB.INTEGER, name=f\"Dec_High_{i}\") for i in n_supply}\n",
        "\n",
        "# Update the model\n",
        "model.update()\n",
        "\n",
        "# Set objective function - Total cost = Production & Transportation cost across network + Fixed cost of low cap line + fixed cost of high cap line\n",
        "model.setObjective(\n",
        "    quicksum(cost_mat[i, j] * dec_qty[i, j] for i in n_supply for j in n_demand) +\n",
        "    quicksum(lcap_fc[i] * dec_lcap[i] for i in n_supply) +\n",
        "    quicksum(hcap_fc[i] * dec_hcap[i] for i in n_supply),\n",
        "    GRB.MINIMIZE\n",
        ")\n",
        "\n",
        "# Excess Capacity constraints\n",
        "for i in n_supply:\n",
        "    model.addConstr(dec_lcap[i] * lcap_qt[i] + dec_hcap[i] * hcap_qt[i] - (sum(dec_qty[i, j] for j in n_demand)) >= 0, f\"Excess_Capacity_Constraints_{i}\")\n",
        "\n",
        "# Unmet demand constraints\n",
        "for j in n_demand:\n",
        "    model.addConstr(demand[j] - (sum(dec_qty[i, j] for i in n_supply)) <= 0, f\"Unmet_Demand_Constraints_{j}\")\n",
        "\n",
        "#model.addConstr(dec_hcap[3] == 2)\n",
        "\n",
        "# Suppress optimization output\n",
        "model.Params.OutputFlag = 0\n",
        "\n",
        "# Optimize the model\n",
        "model.optimize()\n",
        "\n",
        "# Extract results to print as table\n",
        "op_qty  = [[dec_qty[i, j].x for j in n_demand] for i in n_supply]\n",
        "op_lcap = [dec_lcap[i].x for i in n_supply]\n",
        "op_hcap = [dec_hcap[i].x for i in n_supply]\n",
        "lowhigh = [dec_lcap[i].x + dec_hcap[i].x for i in n_supply]\n",
        "\n",
        "# Display results as a table\n",
        "src_loc = [\"N.America\", \"S.America\", \"Europe\", \"Asia\", \"Africa\"]\n",
        "headers = [\"N.America\"] + [\"S.America\"] + [\"Europe\"] + [\"Asia\"] + [\"Africa\"] + [\"Low\"] + [\"High\"] + [\"Total\"]\n",
        "table_data = [[src_loc[i]] + row + [op_lcap[i], op_hcap[i], lowhigh[i]] for i, row in enumerate(op_qty)]\n",
        "table = tabulate(table_data, headers=headers, tablefmt=\"grid\")\n",
        "\n",
        "print(table)\n",
        "print(f\"\\n@ Tariff = {tariff*100}%, Minimum Cost: $ {model.objVal}\")"
      ],
      "metadata": {
        "colab": {
          "base_uri": "https://localhost:8080/"
        },
        "id": "-VIxKBv4lmqw",
        "outputId": "469c65cf-9175-49a5-833c-9c1846e1cd97"
      },
      "execution_count": 17,
      "outputs": [
        {
          "output_type": "stream",
          "name": "stdout",
          "text": [
            "+-----------+-------------+-------------+----------+--------+----------+-------+--------+---------+\n",
            "|           |   N.America |   S.America |   Europe |   Asia |   Africa |   Low |   High |   Total |\n",
            "+===========+=============+=============+==========+========+==========+=======+========+=========+\n",
            "| N.America |          -0 |          -0 |       -0 |     -0 |       -0 |    -0 |     -0 |      -0 |\n",
            "+-----------+-------------+-------------+----------+--------+----------+-------+--------+---------+\n",
            "| S.America |          -0 |          -0 |       -0 |     -0 |       -0 |    -0 |     -0 |      -0 |\n",
            "+-----------+-------------+-------------+----------+--------+----------+-------+--------+---------+\n",
            "| Europe    |          -0 |          -0 |       -0 |     -0 |       -0 |    -0 |     -0 |      -0 |\n",
            "+-----------+-------------+-------------+----------+--------+----------+-------+--------+---------+\n",
            "| Asia      |          12 |           0 |       12 |     16 |        0 |    -0 |      2 |       2 |\n",
            "+-----------+-------------+-------------+----------+--------+----------+-------+--------+---------+\n",
            "| Africa    |          -0 |           8 |        2 |     -0 |        7 |    -0 |      1 |       1 |\n",
            "+-----------+-------------+-------------+----------+--------+----------+-------+--------+---------+\n",
            "\n",
            "@ Tariff = 0%, Minimum Cost: $ 23207.0\n"
          ]
        }
      ]
    },
    {
      "cell_type": "markdown",
      "source": [
        "## Some alternative scenarios to try"
      ],
      "metadata": {
        "id": "hgdkcE0RssKK"
      }
    },
    {
      "cell_type": "markdown",
      "source": [
        "### 1. What if a plant must be built in North America?"
      ],
      "metadata": {
        "id": "ZvgxQ44-vwF3"
      }
    },
    {
      "cell_type": "code",
      "source": [
        "tariff = 0          ### Add tariff in decimal format such as 0, 0.1.\n",
        "cost_mat = cost.copy()\n",
        "cost_mat[3,0] = cost[3,0]*(1+tariff)      # Adjust the cost of import from Asia using tariff\n",
        "\n",
        "# Constraint to build at least one plant in N.America, row[0]\n",
        "model.addConstr(dec_lcap[0] + dec_hcap[0] >= 1, f\"NAmerica_plant_Constraint\")\n",
        "\n",
        "# Suppress optimization output\n",
        "model.Params.OutputFlag = 0\n",
        "\n",
        "# Optimize the model\n",
        "model.optimize()\n",
        "\n",
        "# Extract results to print as table\n",
        "op_qty  = [[dec_qty[i, j].x for j in n_demand] for i in n_supply]\n",
        "op_lcap = [dec_lcap[i].x for i in n_supply]\n",
        "op_hcap = [dec_hcap[i].x for i in n_supply]\n",
        "lowhigh = [dec_lcap[i].x + dec_hcap[i].x for i in n_supply]\n",
        "\n",
        "# Display results as a table\n",
        "src_loc = [\"N.America\", \"S.America\", \"Europe\", \"Asia\", \"Africa\"]\n",
        "headers = [\"N.America\"] + [\"S.America\"] + [\"Europe\"] + [\"Asia\"] + [\"Africa\"] + [\"Low\"] + [\"High\"] + [\"Total\"]\n",
        "table_data = [[src_loc[i]] + row + [op_lcap[i], op_hcap[i], lowhigh[i]] for i, row in enumerate(op_qty)]\n",
        "table = tabulate(table_data, headers=headers, tablefmt=\"grid\")\n",
        "\n",
        "print(table)\n",
        "print(f\"\\n@ Tariff = {tariff*100}%, Minimum Cost: $ {model.objVal}\")"
      ],
      "metadata": {
        "colab": {
          "base_uri": "https://localhost:8080/"
        },
        "id": "8Du9Kpyus4Hl",
        "outputId": "6acd0173-fa21-4996-e481-d1351997ad17"
      },
      "execution_count": 4,
      "outputs": [
        {
          "output_type": "stream",
          "name": "stdout",
          "text": [
            "+-----------+-------------+-------------+----------+--------+----------+-------+--------+---------+\n",
            "|           |   N.America |   S.America |   Europe |   Asia |   Africa |   Low |   High |   Total |\n",
            "+===========+=============+=============+==========+========+==========+=======+========+=========+\n",
            "| N.America |          12 |           8 |       -0 |     -0 |       -0 |    -0 |      1 |       1 |\n",
            "+-----------+-------------+-------------+----------+--------+----------+-------+--------+---------+\n",
            "| S.America |          -0 |          -0 |       -0 |     -0 |       -0 |    -0 |     -0 |      -0 |\n",
            "+-----------+-------------+-------------+----------+--------+----------+-------+--------+---------+\n",
            "| Europe    |          -0 |          -0 |       -0 |     -0 |       -0 |    -0 |     -0 |      -0 |\n",
            "+-----------+-------------+-------------+----------+--------+----------+-------+--------+---------+\n",
            "| Asia      |          -0 |          -0 |        4 |     16 |       -0 |    -0 |      1 |       1 |\n",
            "+-----------+-------------+-------------+----------+--------+----------+-------+--------+---------+\n",
            "| Africa    |          -0 |          -0 |       10 |     -0 |        7 |    -0 |      1 |       1 |\n",
            "+-----------+-------------+-------------+----------+--------+----------+-------+--------+---------+\n",
            "\n",
            "@ Tariff = 0%, Minimum Cost: $ 25689.0\n"
          ]
        }
      ]
    },
    {
      "cell_type": "markdown",
      "source": [
        "### 2. What if plants must be built in every market? In this case?"
      ],
      "metadata": {
        "id": "A9Lv1s3usxay"
      }
    },
    {
      "cell_type": "code",
      "source": [
        "tariff = 0          ### Add tariff in decimal format such as 0, 0.1.\n",
        "cost_mat = cost.copy()\n",
        "cost_mat[3,0] = cost[3,0]*(1+tariff)      # Adjust the cost of import from Asia using tariff\n",
        "\n",
        "\n",
        "# Constraint to build plant in every market\n",
        "for i in n_supply:\n",
        "  model.addConstr(dec_lcap[i] + dec_hcap[i] >= 1, f\"All_plants_Constraint_{i}\")\n",
        "\n",
        "\n",
        "# Suppress optimization output\n",
        "model.Params.OutputFlag = 0\n",
        "\n",
        "# Optimize the model\n",
        "model.optimize()\n",
        "\n",
        "# Extract results to print as table\n",
        "op_qty  = [[dec_qty[i, j].x for j in n_demand] for i in n_supply]\n",
        "op_lcap = [dec_lcap[i].x for i in n_supply]\n",
        "op_hcap = [dec_hcap[i].x for i in n_supply]\n",
        "lowhigh = [dec_lcap[i].x + dec_hcap[i].x for i in n_supply]\n",
        "\n",
        "# Display results as a table\n",
        "src_loc = [\"N.America\", \"S.America\", \"Europe\", \"Asia\", \"Africa\"]\n",
        "headers = [\"N.America\"] + [\"S.America\"] + [\"Europe\"] + [\"Asia\"] + [\"Africa\"] + [\"Low\"] + [\"High\"] + [\"Total\"]\n",
        "table_data = [[src_loc[i]] + row + [op_lcap[i], op_hcap[i], lowhigh[i]] for i, row in enumerate(op_qty)]\n",
        "table = tabulate(table_data, headers=headers, tablefmt=\"grid\")\n",
        "\n",
        "print(table)\n",
        "print(f\"\\n@ Tariff = {tariff*100}%, Minimum Cost: $ {model.objVal}\")"
      ],
      "metadata": {
        "colab": {
          "base_uri": "https://localhost:8080/"
        },
        "id": "Gz5XsdWWtnFJ",
        "outputId": "1af01261-8d1a-4e33-8603-33b30cfb519b"
      },
      "execution_count": 5,
      "outputs": [
        {
          "output_type": "stream",
          "name": "stdout",
          "text": [
            "+-----------+-------------+-------------+----------+--------+----------+-------+--------+---------+\n",
            "|           |   N.America |   S.America |   Europe |   Asia |   Africa |   Low |   High |   Total |\n",
            "+===========+=============+=============+==========+========+==========+=======+========+=========+\n",
            "| N.America |          10 |          -0 |       -0 |     -0 |       -0 |     1 |     -0 |       1 |\n",
            "+-----------+-------------+-------------+----------+--------+----------+-------+--------+---------+\n",
            "| S.America |          -0 |           8 |       -0 |     -0 |       -0 |     1 |     -0 |       1 |\n",
            "+-----------+-------------+-------------+----------+--------+----------+-------+--------+---------+\n",
            "| Europe    |           2 |          -0 |        8 |     -0 |       -0 |     1 |     -0 |       1 |\n",
            "+-----------+-------------+-------------+----------+--------+----------+-------+--------+---------+\n",
            "| Asia      |          -0 |          -0 |        4 |     16 |       -0 |    -0 |      1 |       1 |\n",
            "+-----------+-------------+-------------+----------+--------+----------+-------+--------+---------+\n",
            "| Africa    |          -0 |          -0 |        2 |     -0 |        7 |     1 |     -0 |       1 |\n",
            "+-----------+-------------+-------------+----------+--------+----------+-------+--------+---------+\n",
            "\n",
            "@ Tariff = 0%, Minimum Cost: $ 31547.0\n"
          ]
        }
      ]
    },
    {
      "cell_type": "markdown",
      "source": [
        "### 3. Drop the previous constraint. What if the additional tariff rate goes up to 50%?\n"
      ],
      "metadata": {
        "id": "FWvQ6x8fsx9-"
      }
    },
    {
      "cell_type": "markdown",
      "source": [
        "Rereun relevant code with tariff = 0.5"
      ],
      "metadata": {
        "id": "uv3kKdpPEWsW"
      }
    }
  ]
}